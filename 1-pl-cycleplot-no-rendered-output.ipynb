{
 "cells": [
  {
   "cell_type": "markdown",
   "metadata": {},
   "source": [
    "# Plotting questions\n",
    "\n",
    "First I will generate some dummy data and show my existing plots.\n",
    "Then I will outline my questions of how to improve these plots and keep them still interactive!"
   ]
  },
  {
   "cell_type": "code",
   "execution_count": null,
   "metadata": {},
   "outputs": [],
   "source": [
    "%pylab inline\n",
    "\n",
    "import pandas as pd\n",
    "import numpy as np\n",
    "import seaborn as sns; sns.set()\n",
    "import matplotlib.dates as mdates\n",
    "\n",
    "aut_locator = mdates.AutoDateLocator(minticks=3, maxticks=7)\n",
    "aut_formatter = mdates.ConciseDateFormatter(aut_locator)\n",
    "\n",
    "import random\n",
    "random_seed = 47\n",
    "np.random.seed(random_seed)\n",
    "\n",
    "random.seed(random_seed)"
   ]
  },
  {
   "cell_type": "markdown",
   "metadata": {},
   "source": [
    "## data generation"
   ]
  },
  {
   "cell_type": "code",
   "execution_count": null,
   "metadata": {},
   "outputs": [],
   "source": [
    "def generate_df_for_device(n_observations, n_metrics, device_id, geo_id, topology_id, cohort_id):\n",
    "        df = pd.DataFrame(np.random.randn(n_observations,n_metrics), index=pd.date_range('2020', freq='H', periods=n_observations))\n",
    "        df.columns = [f'metrik_{c}' for c in df.columns]\n",
    "        df['geospatial_id'] = geo_id\n",
    "        df['topology_id'] = topology_id\n",
    "        df['cohort_id'] = cohort_id\n",
    "        df['device_id'] = device_id\n",
    "        return df\n",
    "    \n",
    "def generate_multi_device(n_observations, n_metrics, n_devices, cohort_levels, topo_levels):\n",
    "    results = []\n",
    "    for i in range(1, n_devices +1):\n",
    "        #print(i)\n",
    "        r = random.randrange(1, n_devices)\n",
    "        cohort = random.randrange(1, cohort_levels)\n",
    "        topo = random.randrange(1, topo_levels)\n",
    "        df_single_dvice = generate_df_for_device(n_observations, n_metrics, i, r, topo, cohort)\n",
    "        results.append(df_single_dvice)\n",
    "        #print(r)\n",
    "    return pd.concat(results)\n",
    "\n",
    "# hourly data, 1 week of data\n",
    "n_observations = 7 * 24\n",
    "n_metrics = 3\n",
    "n_devices = 20\n",
    "cohort_levels = 3\n",
    "topo_levels = 5\n",
    "\n",
    "df = generate_multi_device(n_observations, n_metrics, n_devices, cohort_levels, topo_levels)\n",
    "df = df.sort_index()\n",
    "df = df.reset_index().rename(columns={'index':'hour'})\n",
    "df['dt'] = df.hour.dt.date\n",
    "df.head()"
   ]
  },
  {
   "cell_type": "code",
   "execution_count": null,
   "metadata": {},
   "outputs": [],
   "source": [
    "marker_labels = pd.DataFrame({'cohort_id':[1,1, 1], 'marker_type':['a', 'b', 'a'], 'start':['2020-01-2', '2020-01-04 05', '2020-01-06'], 'end':[np.nan, '2020-01-05 16', np.nan]})\n",
    "marker_labels['start'] = pd.to_datetime(marker_labels['start'])\n",
    "marker_labels['end'] = pd.to_datetime(marker_labels['end'])\n",
    "marker_labels.loc[marker_labels['end'].isnull(), 'end'] =  marker_labels.start + pd.Timedelta(days=1) - pd.Timedelta(seconds=1)\n",
    "marker_labels"
   ]
  },
  {
   "cell_type": "markdown",
   "metadata": {},
   "source": [
    "## working exsisting plots"
   ]
  },
  {
   "cell_type": "markdown",
   "metadata": {},
   "source": [
    "### Basic Label Plot"
   ]
  },
  {
   "cell_type": "code",
   "execution_count": null,
   "metadata": {},
   "outputs": [],
   "source": [
    "for cohort_id in sorted(df.cohort_id.unique()):\n",
    "    print(cohort_id)\n",
    "    figsize = (25, 9)\n",
    "    fig, ax = plt.subplots(figsize=figsize)\n",
    "    ax = sns.lineplot(x='hour', y='metrik_0', data=df[df.cohort_id == cohort_id], ax=ax)\n",
    "    ax.xaxis.set_major_locator(aut_locator)\n",
    "    ax.xaxis.set_major_formatter(aut_formatter)\n",
    "    \n",
    "    plt.title(f'cohort_id: {cohort_id}', fontsize=45)\n",
    "    plt.xlabel('')\n",
    "    plt.ylabel('metrik_0', fontsize=35)\n",
    "    \n",
    "    for index, row in marker_labels.iterrows():\n",
    "        start = row.start\n",
    "        end = row.end\n",
    "        marker_type = row.marker_type\n",
    "        if marker_type == 'b':\n",
    "            ax.axvspan(start, end, color='gray', alpha=0.2)\n",
    "        else:\n",
    "            ax.axvspan(start, end, color='orange', alpha=0.5)\n",
    "        \n",
    "    plt.show()\n",
    "\n"
   ]
  },
  {
   "cell_type": "markdown",
   "metadata": {},
   "source": [
    "### Basic interactive plot"
   ]
  },
  {
   "cell_type": "markdown",
   "metadata": {},
   "source": [
    "Variant 1: multiple metrics"
   ]
  },
  {
   "cell_type": "code",
   "execution_count": null,
   "metadata": {},
   "outputs": [],
   "source": [
    "metrik_columns = df.columns[df.columns.str.contains('metrik')].to_list()\n",
    "metrik_columns"
   ]
  },
  {
   "cell_type": "code",
   "execution_count": null,
   "metadata": {},
   "outputs": [],
   "source": [
    "width=1200\n",
    "height=500\n",
    "\n",
    "import holoviews as hv\n",
    "import hvplot.pandas\n",
    "\n",
    "for cohort_id in sorted(df.cohort_id.unique()):\n",
    "    print(cohort_id)\n",
    "    current_plot = df[df.cohort_id == cohort_id].set_index(['hour'])[metrik_columns].hvplot(width=width, height=height).opts(active_tools=['box_zoom'])\n",
    "    \n",
    "    for index, row in marker_labels.iterrows():\n",
    "        start = row.start\n",
    "        end = row.end\n",
    "        marker_type = row.marker_type\n",
    "        vspan = hv.VSpan(start, end)\n",
    "\n",
    "        if marker_type == 'b':\n",
    "            current_plot = current_plot * vspan.opts(color='grey', alpha=0.2)\n",
    "        else:\n",
    "            current_plot = current_plot * vspan.opts(color='orange', alpha=0.4)\n",
    "            \n",
    "    display(current_plot)"
   ]
  },
  {
   "cell_type": "markdown",
   "metadata": {},
   "source": [
    "Variant 2: single metrik for the different devices"
   ]
  },
  {
   "cell_type": "code",
   "execution_count": null,
   "metadata": {},
   "outputs": [],
   "source": [
    "for cohort_id in sorted(df.cohort_id.unique()):\n",
    "    print(cohort_id)\n",
    "    current_plot = df[df.cohort_id == cohort_id].set_index(['hour'])[['metrik_0', 'device_id']].hvplot(by='device_id', width=width, height=height).opts(active_tools=['box_zoom'])\n",
    "    \n",
    "    for index, row in marker_labels.iterrows():\n",
    "        start = row.start\n",
    "        end = row.end\n",
    "        marker_type = row.marker_type\n",
    "        vspan = hv.VSpan(start, end)\n",
    "\n",
    "        if marker_type == 'b':\n",
    "            current_plot = current_plot * vspan.opts(color='grey', alpha=0.2)\n",
    "        else:\n",
    "            current_plot = current_plot * vspan.opts(color='orange', alpha=0.4)\n",
    "            \n",
    "    display(current_plot)"
   ]
  },
  {
   "cell_type": "markdown",
   "metadata": {},
   "source": [
    "**Question 1:**\n",
    "\n",
    "How can I move the legend of the interactive plot down and also display more than a single column? I could not get it to work so far https://github.com/holoviz/holoviews/issues/3780"
   ]
  },
  {
   "cell_type": "markdown",
   "metadata": {},
   "source": [
    "### Basic cycleplot"
   ]
  },
  {
   "cell_type": "code",
   "execution_count": null,
   "metadata": {},
   "outputs": [],
   "source": [
    "for cohort_id in sorted(df.cohort_id.unique()):\n",
    "    print(cohort_id)\n",
    "    \n",
    "    figsize = (25, 9)\n",
    "    fig, ax = plt.subplots(figsize=figsize)\n",
    "    a1 = sns.lineplot(x=df['hour'].dt.hour, y='metrik_0', hue='device_id', units='dt', style='dt', estimator=None, data=df[(df.cohort_id == cohort_id)], ax=ax)\n",
    "    handles, labels = a1.get_legend_handles_labels()\n",
    "    a1.legend(handles=handles[1:], labels=labels[1:], loc='center', bbox_to_anchor=(0.5, -0.25), ncol=6, fontsize=20)\n",
    "\n",
    "    plt.title(f'cohort_id: {cohort_id}', fontsize=35)\n",
    "    plt.xlabel('hour of the day', fontsize=35)\n",
    "    plt.ylabel('metrik_0', fontsize=35)\n",
    "    plt.show()"
   ]
  },
  {
   "cell_type": "markdown",
   "metadata": {},
   "source": [
    "**Question 2:**\n",
    "\n",
    "How can I choose a single color for the lines (maybe separate them by style per device) but highlight the individual lines / time segments of the lines with a matching ticket in i.e. red.\n",
    "    \n",
    "**Question 3:**\n",
    "\n",
    "How can I create an interactive plot like the one above (for the periodicities) which also encompasses Question 2"
   ]
  },
  {
   "cell_type": "markdown",
   "metadata": {},
   "source": [
    "### Scatterplots of a large quantity of points - with legend"
   ]
  },
  {
   "cell_type": "code",
   "execution_count": null,
   "metadata": {},
   "outputs": [],
   "source": [
    "import datashader as ds\n",
    "import datashader.transfer_functions as tf\n",
    "\n",
    "import holoviews as hv\n",
    "from holoviews.operation.datashader import datashade\n",
    "hv.extension('bokeh')\n",
    "from datashader.colors import Sets1to3\n",
    "\n",
    "lab_s = df.cohort_id.unique()\n",
    "color_key = [(name,color) for name,color in zip(lab_s, Sets1to3)]\n",
    "color_points = hv.NdOverlay({n: hv.Points([0,0], label=str(n)).opts(style=dict(color=c)) for n,c in color_key})\n",
    "datashade(hv.Points(df, kdims=['metrik_0', 'metrik_1'], vdims=['cohort_id']), aggregator=ds.count_cat('cohort_id') , color_key=Sets1to3).opts(width=width, height=height) * color_points"
   ]
  }
 ],
 "metadata": {
  "kernelspec": {
   "display_name": "'Python Interactive'",
   "language": "python",
   "name": "6764c397-b874-40ae-a219-c5e6fc89bcf5"
  },
  "language_info": {
   "codemirror_mode": {
    "name": "ipython",
    "version": 3
   },
   "file_extension": ".py",
   "mimetype": "text/x-python",
   "name": "python",
   "nbconvert_exporter": "python",
   "pygments_lexer": "ipython3",
   "version": "3.7.3"
  }
 },
 "nbformat": 4,
 "nbformat_minor": 4
}
